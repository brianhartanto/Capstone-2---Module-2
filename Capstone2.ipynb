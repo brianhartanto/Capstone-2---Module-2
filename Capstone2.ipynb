{
 "cells": [
  {
   "cell_type": "code",
   "execution_count": null,
   "metadata": {},
   "outputs": [],
   "source": [
    "# df2.to_csv('Capstone2.csv',index=False)"
   ]
  },
  {
   "attachments": {},
   "cell_type": "markdown",
   "metadata": {},
   "source": [
    "# Latar Belakang\n",
    "\n",
    "Sebuah perusahaan yang bergerak di bidang data, ingin merekrut *data scientist*. Perusahaan ini melakukan pelatihan dan melakukan perekrutan ke orang-orang yang berhasil menyelesaikan pelatihan tersebut. Banyak orang mendaftar ke pelatihan tersebut, tapi tidak semua yang ikut pelatihan berniat untuk pindah pekerjaan.   "
   ]
  },
  {
   "attachments": {},
   "cell_type": "markdown",
   "metadata": {},
   "source": [
    "## Pernyataan Masalah\n",
    "Perusahaan ingin mengetahui **detail nya kejahatan di kota BOSTON**. Informasi ini akan membantu pihak kepolisian untuk detail nya kejahatan di kota boston.\n",
    "\n",
    "Sebagai seorang *data analyst*, kita akan mencoba menjawab pertanyaan berikut:\n",
    "\n",
    "**Bagaimana kejahatan di dalam kota boston dalam hitungan tahunan , bulanan , district**"
   ]
  },
  {
   "attachments": {},
   "cell_type": "markdown",
   "metadata": {},
   "source": [
    "# Data\n",
    "Untuk menjawab pertanyaan di atas, kita akan menganalisa data kriminal yang sudah dikumpulkan oleh kepolisian. Dataset dapat diakses [di sini](https://www.kaggle.com/datasets/AnalyzeBoston/crimes-in-boston). "
   ]
  },
  {
   "cell_type": "code",
   "execution_count": null,
   "metadata": {},
   "outputs": [],
   "source": [
    "df2[df2['UCR'] == 'Part Two']"
   ]
  },
  {
   "cell_type": "code",
   "execution_count": null,
   "metadata": {},
   "outputs": [],
   "source": [
    "import numpy as np \n",
    "import pandas as pd \n",
    "import seaborn as sns \n",
    "import matplotlib.pyplot as plt \n",
    "\n",
    "from datetime import datetime\n",
    "\n",
    "import plotly.express as px \n",
    "import plotly.graph_objects as go \n",
    "from plotly.subplots import make_subplots\n",
    "import warnings"
   ]
  },
  {
   "attachments": {},
   "cell_type": "markdown",
   "metadata": {},
   "source": [
    "Dataset ini berisi informasi terkait kriminalisasi beserta tgl kriminal tsb . Ada 17 kolom di dalam dataset crim.csv, yaitu:  \n",
    "- INCIDENT_NUMBER               --> ID untuk kasus tersebut\n",
    "- Offense_CODE                  --> Kode pelanggaran pada kepolisian Boston\n",
    "- Offense_Code_Group            --> Jenis pelanggaran\n",
    "- Offense_Description           --> Detail kasus pelanggaran\n",
    "- District                      --> Wilayah\n",
    "- Reporting_Area                --> No Kantor kepolisian\n",
    "- Shooting                      --> Status cara pembunuhan\n",
    "- Occured on Date               --> Tgl kasus diinput ke dalam data\n",
    "- Year                          --> Tahun\n",
    "- Month                         --> Bulan\n",
    "- Day of week                   --> Hari\n",
    "- Hour                          --> Jam\n",
    "- Street                        --> Alamat\n",
    "- Lat                           --> Sumbu Y\n",
    "- Long                          --> Sumbu X\n",
    "- Location                      --> Gabungan Sumbu X-Y\n",
    "\n"
   ]
  },
  {
   "attachments": {},
   "cell_type": "markdown",
   "metadata": {},
   "source": [
    "## Read Database"
   ]
  },
  {
   "cell_type": "code",
   "execution_count": null,
   "metadata": {},
   "outputs": [],
   "source": [
    "df = pd.read_csv('crime.csv',encoding_errors='ignore')\n",
    "df"
   ]
  },
  {
   "cell_type": "code",
   "execution_count": null,
   "metadata": {},
   "outputs": [],
   "source": [
    "df1 = pd.read_csv('offense_codes.csv',encoding_errors='ignore')\n",
    "df1"
   ]
  },
  {
   "attachments": {},
   "cell_type": "markdown",
   "metadata": {},
   "source": [
    "## Data Understanding and Cleaning\n",
    "Sebelum masuk ke dalam analisis, kita perlu mengenal dataset kita lebih jauh dalam tahapan *data understanding*. Dari proses ini, kita akan tahu anomali-anomali apa saja yang terdapat di dalam dataset kita dan perlu ditangani dalam tahapan *data cleaning*. Setiap penangan anomali yang dilakukan, akan disertai dengan justifikasi langkah yang diambil, baik secara *domain knowledge* maupun secara statistik.\n",
    "\n",
    "Pertama, mari kita lihat informasi dari dataset."
   ]
  },
  {
   "cell_type": "code",
   "execution_count": null,
   "metadata": {},
   "outputs": [],
   "source": [
    "display(df.head(),df.tail())"
   ]
  },
  {
   "attachments": {},
   "cell_type": "markdown",
   "metadata": {},
   "source": [
    "## RENAME COLUMNS "
   ]
  },
  {
   "cell_type": "code",
   "execution_count": null,
   "metadata": {},
   "outputs": [],
   "source": [
    "\n",
    "df = df.rename(columns={\"INCIDENT_NUMBER\": \"IncidentID\", \"OFFENSE_CODE\":\"OffenseCode\", \"OFFENSE_CODE_GROUP\":\"OffenseCG\",\n",
    "                    \"OFFENSE_DESCRIPTION\": \"OffenseDesc\", \"DISTRICT\": \"District\", \"REPORTING_AREA\":\"ReportingArea\",\n",
    "                    \"SHOOTING\":\"Shooting\",\"OCCURRED_ON_DATE\":\"OccurredOn\",\"YEAR\":\"Year\",\"MONTH\":\"Month\",\"DAY_OF_WEEK\":\"Day\",\n",
    "                    \"HOUR\":\"Hour\",\"UCR_PART\":\"UCR\",\"STREET\":\"Street\",\"Lat\":\"Latitude\",\"Long\":\"Longitude\"})"
   ]
  },
  {
   "cell_type": "code",
   "execution_count": null,
   "metadata": {},
   "outputs": [],
   "source": [
    "df['Date'] = pd.to_datetime(df['OccurredOn']).dt.date\n",
    "df['Time'] = pd.to_datetime(df['OccurredOn']).dt.time\n",
    "del df['OccurredOn']"
   ]
  },
  {
   "attachments": {},
   "cell_type": "markdown",
   "metadata": {},
   "source": [
    "## MISSING VALUE"
   ]
  },
  {
   "attachments": {},
   "cell_type": "markdown",
   "metadata": {},
   "source": [
    "Dibawah ini dapat dilihat di bagian column District , Shooting , Street , Latitude , Longtitude terdapat missing value "
   ]
  },
  {
   "cell_type": "code",
   "execution_count": null,
   "metadata": {},
   "outputs": [],
   "source": [
    "df.isnull().sum()"
   ]
  },
  {
   "attachments": {},
   "cell_type": "markdown",
   "metadata": {},
   "source": [
    "Sebelum menangani nilai null lainnya, saya memeriksa apakah ada nilai null dalam bentuk spasi atau simbol apa pun dan menggantinya dengan NaN (nilai null)"
   ]
  },
  {
   "cell_type": "code",
   "execution_count": null,
   "metadata": {},
   "outputs": [],
   "source": [
    "df = df.replace(r'^\\s*$', np.nan, regex=True) "
   ]
  },
  {
   "attachments": {},
   "cell_type": "markdown",
   "metadata": {},
   "source": [
    "Setelah melakukan pengecekan , terdapat kenaikan missing value pada column ReportingArea"
   ]
  },
  {
   "cell_type": "code",
   "execution_count": null,
   "metadata": {},
   "outputs": [],
   "source": [
    "df.isnull().sum()"
   ]
  },
  {
   "attachments": {},
   "cell_type": "markdown",
   "metadata": {},
   "source": [
    "Di sini, kami mengamati bahwa kolom 'ReportingArea' yang awalnya menunjukkan 0 nilai nol sekarang menunjukkan 20250 nilai null karena kolom ini memiliki spasi sebagai pengganti NaN. Oleh karena itu, kita juga perlu mengelola nilai yang hilang pada kolom ini.\n",
    "\n",
    "Karena District,Reporting Area, dan Street adalah kolom yang terkait dan penting untuk analisis, kami memutuskan untuk menghapus semua baris yang nilai di ketiga kolom ini adalah nol.\n",
    "\n"
   ]
  },
  {
   "cell_type": "code",
   "execution_count": null,
   "metadata": {},
   "outputs": [],
   "source": [
    "df = df.dropna(how='all', subset=['District', 'ReportingArea', 'Street']) "
   ]
  },
  {
   "cell_type": "code",
   "execution_count": null,
   "metadata": {},
   "outputs": [],
   "source": [
    "df.isnull().sum()"
   ]
  },
  {
   "attachments": {},
   "cell_type": "markdown",
   "metadata": {},
   "source": [
    "Kami mengamati bahwa setelah penghapusan baris dengan subset null, jumlah nilai yang hilang di tiga kolom, 'District', 'Reporting Area' dan 'Street' menurun."
   ]
  },
  {
   "cell_type": "code",
   "execution_count": null,
   "metadata": {},
   "outputs": [],
   "source": [
    "df.isna().sum()"
   ]
  },
  {
   "cell_type": "code",
   "execution_count": null,
   "metadata": {},
   "outputs": [],
   "source": [
    "for column in ['District', 'UCR' , 'ReportingArea']:\n",
    "    df[column].fillna(df[column].mode()[0], inplace=True)"
   ]
  },
  {
   "attachments": {},
   "cell_type": "markdown",
   "metadata": {},
   "source": [
    "## Disini saya mengisi data Shooting yg awalnya terdapat missing value"
   ]
  },
  {
   "cell_type": "code",
   "execution_count": null,
   "metadata": {},
   "outputs": [],
   "source": [
    "#SHOOTING MISSING VALUE\n",
    "Shooting_ = df[\"Shooting\"].fillna('N' , inplace = True )"
   ]
  },
  {
   "cell_type": "code",
   "execution_count": null,
   "metadata": {},
   "outputs": [],
   "source": [
    "df.isna().sum()"
   ]
  },
  {
   "attachments": {},
   "cell_type": "markdown",
   "metadata": {},
   "source": [
    "Saya juga mengabaikan nilai yang hilang yang tersisa di kolom Street karena kami memiliki nilai untuk District yang sesuai dan akan membantu dalam analisis. Oleh karena itu, ini adalah akhir dari preprocessing data."
   ]
  },
  {
   "attachments": {},
   "cell_type": "markdown",
   "metadata": {},
   "source": [
    "## Delete duplicate database \n"
   ]
  },
  {
   "cell_type": "code",
   "execution_count": null,
   "metadata": {},
   "outputs": [],
   "source": [
    "df['IncidentID'].nunique()"
   ]
  },
  {
   "cell_type": "code",
   "execution_count": null,
   "metadata": {},
   "outputs": [],
   "source": [
    "duplicate = df[df.duplicated()]\n",
    "duplicate"
   ]
  },
  {
   "cell_type": "code",
   "execution_count": null,
   "metadata": {},
   "outputs": [],
   "source": [
    "df1[df1['CODE'] == 3125]"
   ]
  },
  {
   "cell_type": "code",
   "execution_count": null,
   "metadata": {},
   "outputs": [],
   "source": [
    "df2.drop(df2[df2['UCR'] == 'Other'].index,inplace=True)"
   ]
  },
  {
   "cell_type": "code",
   "execution_count": null,
   "metadata": {},
   "outputs": [],
   "source": [
    "df.drop_duplicates(subset= 'IncidentID' , inplace= True)"
   ]
  },
  {
   "cell_type": "code",
   "execution_count": null,
   "metadata": {},
   "outputs": [],
   "source": [
    "df.duplicated().sum()"
   ]
  },
  {
   "attachments": {},
   "cell_type": "markdown",
   "metadata": {},
   "source": [
    "Untuk Database 1 yg duplicate sudah clear , karena sudah di drop"
   ]
  },
  {
   "attachments": {},
   "cell_type": "markdown",
   "metadata": {},
   "source": [
    "### delete duplicate data base 2\n"
   ]
  },
  {
   "cell_type": "code",
   "execution_count": null,
   "metadata": {},
   "outputs": [],
   "source": [
    "df1"
   ]
  },
  {
   "cell_type": "code",
   "execution_count": null,
   "metadata": {},
   "outputs": [],
   "source": [
    "df1['CODE'].nunique()"
   ]
  },
  {
   "cell_type": "code",
   "execution_count": null,
   "metadata": {},
   "outputs": [],
   "source": [
    "df1.shape"
   ]
  },
  {
   "cell_type": "code",
   "execution_count": null,
   "metadata": {},
   "outputs": [],
   "source": [
    "df1.drop_duplicates(subset= 'CODE' , inplace= True)"
   ]
  },
  {
   "attachments": {},
   "cell_type": "markdown",
   "metadata": {},
   "source": [
    "Untuk database 2 yg duplikat juga sudah clear"
   ]
  },
  {
   "attachments": {},
   "cell_type": "markdown",
   "metadata": {},
   "source": [
    "## RENAME COLUMN DATABASE 2\n"
   ]
  },
  {
   "cell_type": "code",
   "execution_count": null,
   "metadata": {},
   "outputs": [],
   "source": [
    "\n",
    "df1 = df1.rename(columns={\"CODE\": \"OffenseCode\" , \"NAME\": \"OffenseDesc\"})"
   ]
  },
  {
   "cell_type": "code",
   "execution_count": null,
   "metadata": {},
   "outputs": [],
   "source": [
    "df1"
   ]
  },
  {
   "attachments": {},
   "cell_type": "markdown",
   "metadata": {},
   "source": [
    "## Gabungan antara database 1 dan 2"
   ]
  },
  {
   "cell_type": "code",
   "execution_count": null,
   "metadata": {},
   "outputs": [],
   "source": [
    "df2= df.merge(df1, on='OffenseCode' , how= 'left')\n",
    "df2"
   ]
  },
  {
   "cell_type": "code",
   "execution_count": null,
   "metadata": {},
   "outputs": [],
   "source": [
    "df2[df2['OffenseCG'] == 'Other']"
   ]
  },
  {
   "cell_type": "code",
   "execution_count": null,
   "metadata": {},
   "outputs": [],
   "source": [
    "df2.drop(columns = 'OffenseDesc_y' ,inplace=True )"
   ]
  },
  {
   "attachments": {},
   "cell_type": "markdown",
   "metadata": {},
   "source": [
    "## Menghapus nilai Other di dalam column OffenseCG"
   ]
  },
  {
   "cell_type": "code",
   "execution_count": null,
   "metadata": {},
   "outputs": [],
   "source": [
    "df2.drop(df2[df2['OffenseCG'] == 'Other'].index,inplace = True)"
   ]
  },
  {
   "cell_type": "code",
   "execution_count": null,
   "metadata": {},
   "outputs": [],
   "source": [
    "df2"
   ]
  },
  {
   "cell_type": "code",
   "execution_count": null,
   "metadata": {},
   "outputs": [],
   "source": [
    "df2['OffenseCG'].nunique()"
   ]
  },
  {
   "cell_type": "code",
   "execution_count": null,
   "metadata": {},
   "outputs": [],
   "source": [
    "df.info()"
   ]
  },
  {
   "cell_type": "code",
   "execution_count": null,
   "metadata": {},
   "outputs": [],
   "source": [
    "import matplotlib.pyplot as plt\n",
    "import matplotlib as mpl\n",
    "%matplotlib inline\n",
    "import seaborn as sns"
   ]
  },
  {
   "cell_type": "code",
   "execution_count": null,
   "metadata": {},
   "outputs": [],
   "source": [
    "df2.isnull().sum()"
   ]
  },
  {
   "attachments": {},
   "cell_type": "markdown",
   "metadata": {},
   "source": [
    "## DATA VISUALIZATION"
   ]
  },
  {
   "cell_type": "code",
   "execution_count": null,
   "metadata": {},
   "outputs": [],
   "source": [
    "OCG = df2[['OffenseCG']].value_counts()\n",
    "OCG"
   ]
  },
  {
   "cell_type": "code",
   "execution_count": null,
   "metadata": {},
   "outputs": [],
   "source": [
    "#Create Dataframe\n",
    "Data1 = pd.DataFrame(OCG)\n",
    "Data1"
   ]
  },
  {
   "cell_type": "code",
   "execution_count": null,
   "metadata": {},
   "outputs": [],
   "source": [
    "#RENAME\n",
    "df2.rename(columns={'OffenseDesc_x':'OffenseDesc'} , inplace=True)"
   ]
  },
  {
   "cell_type": "code",
   "execution_count": null,
   "metadata": {},
   "outputs": [],
   "source": [
    "df2['OffenseCG'].nunique()"
   ]
  },
  {
   "cell_type": "code",
   "execution_count": null,
   "metadata": {},
   "outputs": [],
   "source": [
    "df2"
   ]
  },
  {
   "cell_type": "code",
   "execution_count": null,
   "metadata": {},
   "outputs": [],
   "source": [
    "df2[df2['Hour'] == 0]"
   ]
  },
  {
   "cell_type": "code",
   "execution_count": null,
   "metadata": {},
   "outputs": [],
   "source": [
    "Data = Data1.reset_index().rename(columns={0 : 'counts'})\n",
    "Data\n"
   ]
  },
  {
   "cell_type": "code",
   "execution_count": null,
   "metadata": {},
   "outputs": [],
   "source": [
    "df2.duplicated().sum()"
   ]
  },
  {
   "cell_type": "code",
   "execution_count": null,
   "metadata": {},
   "outputs": [],
   "source": [
    "df2.info()"
   ]
  },
  {
   "cell_type": "code",
   "execution_count": null,
   "metadata": {},
   "outputs": [],
   "source": [
    "## Change houur 0 - 24\n",
    "df2.loc[df2[\"Hour\"] == 0, \"Hour\"] = 24"
   ]
  },
  {
   "cell_type": "code",
   "execution_count": null,
   "metadata": {},
   "outputs": [],
   "source": [
    "df2['Hour'].unique()"
   ]
  },
  {
   "attachments": {},
   "cell_type": "markdown",
   "metadata": {},
   "source": [
    "## CATPLOT DATA ALL IN OFFENSE"
   ]
  },
  {
   "cell_type": "code",
   "execution_count": null,
   "metadata": {},
   "outputs": [],
   "source": [
    "#Total Number offense crime in boston\n",
    "plt.figure(figsize=(50,30))\n",
    "sns.set_style(\"whitegrid\")\n",
    "\n",
    "sns.set(font_scale = 3)\n",
    "viz1 = sns.catplot(x= 'counts', y='OffenseCG', height=50, kind='bar', data=Data)\n",
    "plt.title('Total Offenses for each Offense Group')\n",
    "plt.xlabel('Number of Offenses')\n",
    "plt.ylabel('Offense Category Group')\n",
    "plt.show()"
   ]
  },
  {
   "attachments": {},
   "cell_type": "markdown",
   "metadata": {},
   "source": [
    "## Number Offense per Year"
   ]
  },
  {
   "attachments": {},
   "cell_type": "markdown",
   "metadata": {},
   "source": [
    "Di bawah ini dapat diliat Grafik kasus di Boston berdasarkan tahun"
   ]
  },
  {
   "cell_type": "code",
   "execution_count": null,
   "metadata": {},
   "outputs": [],
   "source": [
    "year_crime = df2[['Year']].value_counts()\n",
    "year_crime"
   ]
  },
  {
   "cell_type": "code",
   "execution_count": null,
   "metadata": {},
   "outputs": [],
   "source": [
    "Data2 = pd.DataFrame(year_crime).reset_index().rename(columns={0 : 'TCBY'}) #Total Crimes By Year\n",
    "Data2"
   ]
  },
  {
   "cell_type": "code",
   "execution_count": null,
   "metadata": {},
   "outputs": [],
   "source": [
    "sns.set(font_scale=1)\n",
    "fig = plt.gcf()\n",
    "fig.set_size_inches(10, 5)\n",
    "ax = sns.lineplot(x=\"Year\", y=\"TCBY\",\n",
    "                   marker='o', ci=None, data=Data2)\n",
    "\n",
    "                   \n",
    "\n",
    "plt.title('Number of Offenses over the years')\n",
    "plt.xlabel('Years')\n",
    "plt.ylabel('Number of Offenses')\n",
    "\n",
    "\n",
    "\n",
    "plt.show()"
   ]
  },
  {
   "attachments": {},
   "cell_type": "markdown",
   "metadata": {},
   "source": [
    "## Number of Offenses / Month\n",
    "\n",
    "    Di bawah ini dapat di liat juga kasus di Boston berdasarkan bulan\n"
   ]
  },
  {
   "cell_type": "code",
   "execution_count": null,
   "metadata": {},
   "outputs": [],
   "source": [
    "\n",
    "sns.set(font_scale = 1)\n",
    "fig = plt.gcf()\n",
    "fig.set_size_inches(12, 8)\n",
    "sns.countplot(data=df2, x='Month')\n",
    "plt.ylabel('Number of Offenses')\n",
    "plt.show()#MonthPlot"
   ]
  },
  {
   "attachments": {},
   "cell_type": "markdown",
   "metadata": {},
   "source": [
    "## Number Offense / District\n",
    "\n",
    "        Grafik detail untuk total kasus di Boston berdasarkan District"
   ]
  },
  {
   "cell_type": "code",
   "execution_count": null,
   "metadata": {},
   "outputs": [],
   "source": [
    "df2[df2['District']=='B2']"
   ]
  },
  {
   "cell_type": "code",
   "execution_count": null,
   "metadata": {},
   "outputs": [],
   "source": [
    "fig = plt.gcf()\n",
    "fig.set_size_inches(15, 8)\n",
    "sns.countplot(data=df2, x='District') #DistrictPlot\n",
    "plt.ylabel('Number of Offenses')\n",
    "\n",
    "plt.show()"
   ]
  },
  {
   "attachments": {},
   "cell_type": "markdown",
   "metadata": {},
   "source": [
    "## Total Offense per hour\n",
    "\n",
    "    Total kejahatan kasus di Boston berdasarkan jam"
   ]
  },
  {
   "cell_type": "code",
   "execution_count": null,
   "metadata": {},
   "outputs": [],
   "source": [
    "fig = plt.gcf()\n",
    "fig.set_size_inches(15, 8)\n",
    "sns.countplot(data=df2, x='Hour') #DistrictPlot\n",
    "plt.ylabel('Number of Offenses')\n",
    "\n",
    "plt.show()"
   ]
  },
  {
   "attachments": {},
   "cell_type": "markdown",
   "metadata": {},
   "source": [
    "## TOP 8 total offense crime in Boston\n",
    "\n",
    "    Di bawah ini saya melakukan analisa untuk 8 kasus kejahatan tertinggi di Boston"
   ]
  },
  {
   "cell_type": "code",
   "execution_count": null,
   "metadata": {},
   "outputs": [],
   "source": [
    "O_Desc = df2[['OffenseCG']].value_counts()\n",
    "O_Desc"
   ]
  },
  {
   "cell_type": "code",
   "execution_count": null,
   "metadata": {},
   "outputs": [],
   "source": [
    "Data3 = pd.DataFrame(O_Desc).reset_index().rename(columns={0 : 'count(OffenseDesc)'}).head(8) #OffenseDesc\n",
    "Data3"
   ]
  },
  {
   "cell_type": "code",
   "execution_count": null,
   "metadata": {},
   "outputs": [],
   "source": [
    "fig = plt.gcf()\n",
    "fig.set_size_inches(15, 8)\n",
    "sns.set_style(\"whitegrid\")\n",
    "sns.set(font_scale = 5)\n",
    "viz1 = sns.barplot(x='OffenseCG', y='count(OffenseDesc)', data=Data3)\n",
    "plt.xlabel(\"Type of Offenses\", fontsize=15)\n",
    "plt.ylabel(\"Number of Offense\", fontsize=15)\n",
    "plt.xticks(fontsize=8)\n",
    "plt.yticks(fontsize=8)\n",
    "plt.title(\"Top 8 Offense Code Groups\", fontsize=15)\n",
    "plt.show()"
   ]
  },
  {
   "attachments": {},
   "cell_type": "markdown",
   "metadata": {},
   "source": [
    "## Total offense setiap tahun berdasarkan tahun dan jenis kasus di Boston\n",
    "\n",
    "    Di bawah ini saya melakukan analisa untuk setiap kasus berdasarkan tahun "
   ]
  },
  {
   "cell_type": "code",
   "execution_count": null,
   "metadata": {},
   "outputs": [],
   "source": [
    "data4 = df2.groupby(['OffenseCG','Year']).count()[['IncidentID']].reset_index()\n",
    "\n",
    "\n",
    "data4"
   ]
  },
  {
   "cell_type": "code",
   "execution_count": null,
   "metadata": {},
   "outputs": [],
   "source": [
    "data4 = data4.rename(columns={'IncidentID' : 'count(OffenseDesc)'})\n",
    "data4"
   ]
  },
  {
   "cell_type": "code",
   "execution_count": null,
   "metadata": {},
   "outputs": [],
   "source": [
    "df4 = pd.merge(Data3,data4, on=['OffenseCG'] )\n",
    "del df4['count(OffenseDesc)_x']\n",
    "df4 = df4.rename(columns={'count(OffenseDesc)_y': 'Number of Offenses'})\n",
    "df4"
   ]
  },
  {
   "cell_type": "code",
   "execution_count": null,
   "metadata": {},
   "outputs": [],
   "source": [
    "# Cek total tabel\n",
    "df2[(df2['OffenseCG'] == 'Motor Vehicle Accident Response') & (df2['Year'] == 2015)]"
   ]
  },
  {
   "cell_type": "code",
   "execution_count": null,
   "metadata": {},
   "outputs": [],
   "source": [
    "df4"
   ]
  },
  {
   "attachments": {},
   "cell_type": "markdown",
   "metadata": {},
   "source": [
    "Di bawah ini dapat diliat langsung secara jelas untuk kenaikan dan penurunan kasus tersebut di setiap tahun."
   ]
  },
  {
   "cell_type": "code",
   "execution_count": null,
   "metadata": {},
   "outputs": [],
   "source": [
    "fig = plt.gcf()\n",
    "fig.set_size_inches(20, 25)\n",
    "ax = sns.lineplot(x=\"Year\", y=\"Number of Offenses\",\n",
    "                  hue=\"OffenseCG\", marker='o', ci=None, data=df4)\n",
    "ax.legend(bbox_to_anchor=(0,0))\n",
    "plt.title('Number of Offenses over the years')\n",
    "plt.xlabel('Years')\n",
    "plt.ylabel('Number of Offenses')\n",
    "plt.show()\n"
   ]
  },
  {
   "attachments": {},
   "cell_type": "markdown",
   "metadata": {},
   "source": [
    "## Total kasus 'MOTOR VEHICLE ACCIDENT RESPONSE OFFENSES' berdasarkan bulan\n",
    "\n",
    "    di bawah ini saya melakukan analisa lebih dalam lagi untuk tipe kasus 'MOTOR VEHICLE ACCIDENT RESPONSE OFFENSES' berdasarkan bulan"
   ]
  },
  {
   "cell_type": "code",
   "execution_count": null,
   "metadata": {},
   "outputs": [],
   "source": [
    "df2[df2['OffenseCG'] == 'Motor Vehicle Accident Response']"
   ]
  },
  {
   "cell_type": "code",
   "execution_count": null,
   "metadata": {},
   "outputs": [],
   "source": [
    "data5 = df2[df2['OffenseCG'] == 'Motor Vehicle Accident Response'][['OffenseCG','Month','Year']]\n",
    "data5\n",
    "\n"
   ]
  },
  {
   "cell_type": "code",
   "execution_count": null,
   "metadata": {},
   "outputs": [],
   "source": [
    "data6 = data5.groupby(['Year' , 'Month']).count()\n",
    "data6"
   ]
  },
  {
   "cell_type": "code",
   "execution_count": null,
   "metadata": {},
   "outputs": [],
   "source": [
    "#Cek Data apakah sudah benar\n",
    "data6['OffenseCG'].sum()"
   ]
  },
  {
   "cell_type": "code",
   "execution_count": null,
   "metadata": {},
   "outputs": [],
   "source": [
    "data6 = data6.reset_index()"
   ]
  },
  {
   "cell_type": "code",
   "execution_count": null,
   "metadata": {},
   "outputs": [],
   "source": [
    "data6"
   ]
  },
  {
   "attachments": {},
   "cell_type": "markdown",
   "metadata": {},
   "source": [
    "Di bawah ini dapat di lihat untuk kasus 'MOTOR VEHICLE ACCIDENT RESPONSE OFFENSES' , di tahun 2016 bulan 6 terdapat kasus tertinggi"
   ]
  },
  {
   "cell_type": "code",
   "execution_count": null,
   "metadata": {},
   "outputs": [],
   "source": [
    "fig = plt.gcf()\n",
    "fig.set_size_inches(70, 40)\n",
    "sns.set(font_scale=1.4)\n",
    "ax = sns.barplot(x=\"Month\", y=\"OffenseCG\", hue=\"Year\", data=data6)\n",
    "ax.legend(loc='best', fontsize=50)\n",
    "plt.title('Number of Motor Vehicle Accident Response Offenses over the months', fontsize = 100)\n",
    "plt.xlabel('Months', fontsize=100)\n",
    "plt.xticks(fontsize=50)\n",
    "plt.yticks(fontsize=50)\n",
    "plt.ylabel('Number of Offenses', fontsize = 100)\n",
    "plt.show()"
   ]
  },
  {
   "attachments": {},
   "cell_type": "markdown",
   "metadata": {},
   "source": [
    "## TOP 3 OFFENSE CASE IN BOSTON "
   ]
  },
  {
   "attachments": {},
   "cell_type": "markdown",
   "metadata": {},
   "source": [
    "## 1. TYPE OF MOTOR VEHICLE ACCIDENT RESPONSE\n",
    "        di bawah ini saya melakukan analisa lebih dalam lagi , karena kasus 'MOTOR VEHICLE ACCIDENT RESPONSE' adalah yang tertinggi."
   ]
  },
  {
   "cell_type": "code",
   "execution_count": null,
   "metadata": {},
   "outputs": [],
   "source": [
    "data7 = df2[df2['OffenseCG'] == 'Motor Vehicle Accident Response'][['OffenseDesc','Latitude','Longitude']]\n",
    "data7"
   ]
  },
  {
   "cell_type": "code",
   "execution_count": null,
   "metadata": {},
   "outputs": [],
   "source": [
    "df2.drop(df2[df2['Longitude'] == -1.000000].index,inplace=True)"
   ]
  },
  {
   "cell_type": "code",
   "execution_count": null,
   "metadata": {},
   "outputs": [],
   "source": [
    "data8 = data7.value_counts().reset_index()\n",
    "data8.rename(columns={0 : 'Number Of Offenses','OffenseDesc' : 'Type of Motor Vehicle Offenses Case'},inplace = True)\n",
    "data8\n"
   ]
  },
  {
   "attachments": {},
   "cell_type": "markdown",
   "metadata": {},
   "source": [
    "Di bawah ini terdapat grafik dari kasus 'MOTOR VEHICLE ACCIDENT RESPONSE' group , dan di dalam kasus 'MOTOR VEHICLE ACCIDENT RESPONSE' terdapat M/V property damage yang menjadi jenis kasus tertinggi di Boston"
   ]
  },
  {
   "cell_type": "code",
   "execution_count": null,
   "metadata": {},
   "outputs": [],
   "source": [
    "fig = plt.gcf()\n",
    "fig.set_size_inches(90, 40)\n",
    "ax = sns.barplot(x='Type of Motor Vehicle Offenses Case', y='Number Of Offenses', data=data8)\n",
    "plt.xlabel ('Type of Motor Vehicle Accident Case', fontsize=80)\n",
    "plt.ylabel ('Number of Offenses', fontsize=80)\n",
    "plt.xticks(rotation=15, fontsize=30)\n",
    "plt.yticks(fontsize=50)\n",
    "plt.show()\n"
   ]
  },
  {
   "cell_type": "code",
   "execution_count": null,
   "metadata": {},
   "outputs": [],
   "source": [
    "import folium"
   ]
  },
  {
   "attachments": {},
   "cell_type": "markdown",
   "metadata": {},
   "source": [
    "## FOLIUM"
   ]
  },
  {
   "cell_type": "code",
   "execution_count": null,
   "metadata": {},
   "outputs": [],
   "source": [
    "from folium import plugins"
   ]
  },
  {
   "attachments": {},
   "cell_type": "markdown",
   "metadata": {},
   "source": [
    "DI bawah ini terdapat peta dari boston yang menjelaskan detail dan lokasi kejadi tersebut , dan dapat diliat secara jelas"
   ]
  },
  {
   "cell_type": "code",
   "execution_count": null,
   "metadata": {},
   "outputs": [],
   "source": [
    "m_vehicle = folium.Map(location = [latitude, longitude], zoom_start = 12)\n",
    "\n",
    "offenses = plugins.MarkerCluster().add_to(m_vehicle)\n",
    "\n",
    "for lat, lng in zip(data8.Latitude, data8.Longitude):\n",
    "    folium.Marker(\n",
    "        location=[lat, lng],\n",
    "        icon=folium.Icon(color='lightgray', icon='pin'),\n",
    "    ).add_to(offenses)\n",
    "\n",
    "m_vehicle"
   ]
  },
  {
   "attachments": {},
   "cell_type": "markdown",
   "metadata": {},
   "source": [
    "## 2. LARCENY\n",
    "\n",
    "    Larceny menjadi kasus ke2 tertinggi dan mari kita melakukan analsa lebih dalam lagi di bawah ini"
   ]
  },
  {
   "cell_type": "code",
   "execution_count": null,
   "metadata": {},
   "outputs": [],
   "source": [
    "df2[df2['OffenseCG'] == 'Larceny']\n"
   ]
  },
  {
   "cell_type": "code",
   "execution_count": null,
   "metadata": {},
   "outputs": [],
   "source": [
    "## CEK DATA LARCENY\n",
    "df2[(df2['OffenseCG'] =='Larceny') & (df2['Year'] == 2015) & (df2['Month']==6)]"
   ]
  },
  {
   "cell_type": "code",
   "execution_count": null,
   "metadata": {},
   "outputs": [],
   "source": [
    "data12 =df2[df2['OffenseCG'] == 'Larceny'][['OffenseDesc','Latitude','Longitude']].value_counts()\n",
    "data12 =pd.DataFrame(data12).reset_index().rename(columns={0 :'Number Of Offenses'})\n",
    "\n"
   ]
  },
  {
   "cell_type": "code",
   "execution_count": null,
   "metadata": {},
   "outputs": [],
   "source": [
    "data12"
   ]
  },
  {
   "attachments": {},
   "cell_type": "markdown",
   "metadata": {},
   "source": [
    "di bawah ini dapat diliat jenis kasus 'Larceny Shoplifting' menjadi kasus tertinggi di dalam group Larceny"
   ]
  },
  {
   "cell_type": "code",
   "execution_count": null,
   "metadata": {},
   "outputs": [],
   "source": [
    "fig = plt.gcf()\n",
    "fig.set_size_inches(90, 60)\n",
    "ax = sns.barplot(x='OffenseDesc', y='Number Of Offenses', data=data12)\n",
    "plt.xlabel ('Larceny', fontsize=80)\n",
    "plt.ylabel ('Number of Offenses', fontsize=80)\n",
    "plt.xticks(rotation=15, fontsize=30)\n",
    "plt.yticks(fontsize=50)\n",
    "plt.show()"
   ]
  },
  {
   "attachments": {},
   "cell_type": "markdown",
   "metadata": {},
   "source": [
    "Di bawah ini terdapat peta detail dan lokasi untuk kasus Larceny yang terjadi di kota Boston"
   ]
  },
  {
   "cell_type": "code",
   "execution_count": null,
   "metadata": {},
   "outputs": [],
   "source": [
    "Larceny = folium.Map(location = [latitude, longitude], zoom_start = 12)\n",
    "\n",
    "offenses = plugins.MarkerCluster().add_to(Larceny)\n",
    "\n",
    "for lat, lng in zip(data12.Latitude, data12.Longitude):\n",
    "    folium.Marker(\n",
    "        location=[lat, lng],\n",
    "        icon=folium.Icon(color='lightgray', icon='pin'),\n",
    "    ).add_to(offenses)\n",
    "\n",
    "Larceny\n",
    "\n"
   ]
  },
  {
   "attachments": {},
   "cell_type": "markdown",
   "metadata": {},
   "source": [
    "## MEDICAL ASSISTANCE\n",
    "    Medical assitance menjadi kasus ke 3 tertinggi di Boston"
   ]
  },
  {
   "cell_type": "code",
   "execution_count": null,
   "metadata": {},
   "outputs": [],
   "source": [
    "data13 =df2[df2['OffenseCG'] == 'Medical Assistance'][['OffenseDesc','Latitude','Longitude','District']].value_counts()\n",
    "data13 =pd.DataFrame(data13).reset_index().rename(columns={0 :'Number Of Offenses'})\n",
    "data13\n"
   ]
  },
  {
   "attachments": {},
   "cell_type": "markdown",
   "metadata": {},
   "source": [
    "Di dalam kasus Medical Assistance case group terdapat 'Sick/Injured/Medical-Person' yang menjadi kasus tertinggi dalam case group ini"
   ]
  },
  {
   "cell_type": "code",
   "execution_count": null,
   "metadata": {},
   "outputs": [],
   "source": [
    "fig = plt.gcf()\n",
    "fig.set_size_inches(90, 60)\n",
    "ax = sns.barplot(x='OffenseDesc', y='Number Of Offenses', data=data13)\n",
    "plt.xlabel ('Medical Assistance', fontsize=80)\n",
    "plt.ylabel ('Number of Offenses', fontsize=80)\n",
    "plt.xticks(rotation=15, fontsize=30)\n",
    "plt.yticks(fontsize=50)\n",
    "plt.show()"
   ]
  },
  {
   "attachments": {},
   "cell_type": "markdown",
   "metadata": {},
   "source": [
    "Untuk lokasi detail dan kejadi dalam kasus medical assistance group ada di bawah ini"
   ]
  },
  {
   "cell_type": "code",
   "execution_count": null,
   "metadata": {},
   "outputs": [],
   "source": [
    "Medical_Ass = folium.Map(location = [latitude, longitude], zoom_start = 12)\n",
    "\n",
    "offenses = plugins.MarkerCluster().add_to(Medical_Ass)\n",
    "\n",
    "for lat, lng in zip(data13.Latitude, data13.Longitude):\n",
    "    folium.Marker(\n",
    "        location=[lat, lng],\n",
    "        icon=folium.Icon(color='red', icon='pin'),\n",
    "    ).add_to(offenses)\n",
    "\n",
    "Medical_Ass"
   ]
  },
  {
   "cell_type": "code",
   "execution_count": null,
   "metadata": {},
   "outputs": [],
   "source": []
  }
 ],
 "metadata": {
  "kernelspec": {
   "display_name": "base",
   "language": "python",
   "name": "python3"
  },
  "language_info": {
   "codemirror_mode": {
    "name": "ipython",
    "version": 3
   },
   "file_extension": ".py",
   "mimetype": "text/x-python",
   "name": "python",
   "nbconvert_exporter": "python",
   "pygments_lexer": "ipython3",
   "version": "3.9.13"
  },
  "orig_nbformat": 4,
  "vscode": {
   "interpreter": {
    "hash": "f08154012ddadd8e950e6e9e035c7a7b32c136e7647e9b7c77e02eb723a8bedb"
   }
  }
 },
 "nbformat": 4,
 "nbformat_minor": 2
}
